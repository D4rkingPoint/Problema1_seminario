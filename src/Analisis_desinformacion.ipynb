{
 "cells": [
  {
   "cell_type": "markdown",
   "id": "6e39ad6b",
   "metadata": {},
   "source": [
    "# Análisis de Desinformación en Redes Sociales en las Elecciones Presidenciales\n",
    "\n",
    "## Autores: \n",
    "\n",
    "- Leonardo Ponce 202030531-5 (leonardo.ponde@usm.cl)\n",
    "- Álvaro Pozo 202030535-8 (alvaro.pozo@usm.cl)"
   ]
  },
  {
   "cell_type": "markdown",
   "id": "5726c3b2",
   "metadata": {},
   "source": [
    "## Contexto\n",
    "\n",
    "En el marco de las elecciones presidenciales, las redes sociales han adquirido un rol\n",
    "central como espacio de difusión de información, debate y propaganda política. Sin\n",
    "embargo, también se han convertido en terreno fértil para la circulación de noticias\n",
    "falsas (fake news), campañas de desinformación coordinada y el uso de cuentas\n",
    "automatizadas (bots) que distorsionan la conversación pública.\n",
    "Este problema busca que analicen cómo se propaga este tipo de información, qué\n",
    "actores y comunidades la potencian, y cómo es posible identificar patrones ocultos\n",
    "mediante el uso de redes, análisis temporal y procesamiento de texto."
   ]
  },
  {
   "cell_type": "markdown",
   "id": "3d90a1f1",
   "metadata": {},
   "source": [
    "## Objetivos\n",
    "\n",
    "En esta primera parte se trabajará con datos de redes sociales asociados a las elecciones presidenciales. El foco está en estudiar cómo se propagan las noticias falsas en comparación con publicaciones legítimas.\n",
    "\n",
    "Tareas principales:\n",
    "1. Recolectar y organizar publicaciones relevantes sobre las elecciones (ej., con\n",
    "palabras clave o enlaces compartidos).\n",
    "2. Reconstruir cascadas de difusión (retuits, compartidos, menciones) como\n",
    "grafos de propagación.\n",
    "3. Calcular métricas de red (grado, betweenness, closeness, etc.) para identificar\n",
    "actores que amplifican rumores.\n",
    "4. Visualizar la dinámica temporal y geográfica de la propagación.\n",
    "5. Distinguir posibles cuentas automatizadas a partir de sus patrones de actividad.\n"
   ]
  },
  {
   "cell_type": "markdown",
   "id": "bb799787",
   "metadata": {},
   "source": [
    "# Desarrollo del problema"
   ]
  },
  {
   "cell_type": "code",
   "execution_count": null,
   "id": "0e825ad5",
   "metadata": {},
   "outputs": [],
   "source": []
  },
  {
   "cell_type": "code",
   "execution_count": null,
   "id": "a0eee011",
   "metadata": {},
   "outputs": [],
   "source": []
  },
  {
   "cell_type": "code",
   "execution_count": null,
   "id": "2212afa5",
   "metadata": {},
   "outputs": [],
   "source": []
  },
  {
   "cell_type": "code",
   "execution_count": null,
   "id": "f27f8f2c",
   "metadata": {},
   "outputs": [],
   "source": []
  },
  {
   "cell_type": "markdown",
   "id": "249191f7",
   "metadata": {},
   "source": [
    "## Las celdas deben estar comentadas!\n",
    "## Deben haber graficos!!"
   ]
  },
  {
   "cell_type": "markdown",
   "id": "7c6fe24e",
   "metadata": {},
   "source": [
    "# Preguntas orientadoras:\n",
    "- ¿Qué candidatos aparecen más vinculados a comunidades de desinformación?\n",
    "- ¿Qué términos o narrativas destacan en las comunidades y qué sesgos reflejan?\n",
    "- ¿Qué patrones de conexión entre comunidades ayudan a explicar la propagación de narrativas falsas?\n",
    "- ¿Qué diferencias se observan entre comunidades dominadas por humanos y aquellas potenciadas por bots?\n"
   ]
  },
  {
   "cell_type": "markdown",
   "id": "9239f1ec",
   "metadata": {},
   "source": [
    "# Discusión"
   ]
  },
  {
   "cell_type": "markdown",
   "id": "f914943a",
   "metadata": {},
   "source": [
    "***La discusión debe estar conectada con las preguntas orientadoras***"
   ]
  }
 ],
 "metadata": {
  "language_info": {
   "name": "python"
  }
 },
 "nbformat": 4,
 "nbformat_minor": 5
}
